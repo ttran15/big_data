{
 "cells": [
  {
   "cell_type": "code",
   "execution_count": 1,
   "id": "03ebcc8c-d5c5-41cf-bc2e-b5b9e3002f1a",
   "metadata": {},
   "outputs": [
    {
     "name": "stdout",
     "output_type": "stream",
     "text": [
      "Defaulting to user installation because normal site-packages is not writeable\n",
      "Requirement already satisfied: covid-data-api in /home/hadoop/.local/lib/python3.10/site-packages (1.5)\n",
      "Requirement already satisfied: requests==2.23.0 in /home/hadoop/.local/lib/python3.10/site-packages (from covid-data-api) (2.23.0)\n",
      "Requirement already satisfied: python-dateutil==2.8.1 in /home/hadoop/.local/lib/python3.10/site-packages (from covid-data-api) (2.8.1)\n",
      "Requirement already satisfied: six>=1.5 in /usr/lib/python3/dist-packages (from python-dateutil==2.8.1->covid-data-api) (1.16.0)\n",
      "Requirement already satisfied: idna<3,>=2.5 in /home/hadoop/.local/lib/python3.10/site-packages (from requests==2.23.0->covid-data-api) (2.10)\n",
      "Requirement already satisfied: chardet<4,>=3.0.2 in /home/hadoop/.local/lib/python3.10/site-packages (from requests==2.23.0->covid-data-api) (3.0.4)\n",
      "Requirement already satisfied: urllib3!=1.25.0,!=1.25.1,<1.26,>=1.21.1 in /home/hadoop/.local/lib/python3.10/site-packages (from requests==2.23.0->covid-data-api) (1.25.11)\n",
      "Requirement already satisfied: certifi>=2017.4.17 in /usr/lib/python3/dist-packages (from requests==2.23.0->covid-data-api) (2020.6.20)\n"
     ]
    }
   ],
   "source": [
    "# https://pypi.org/project/covid-data-api/\n",
    "!pip install covid-data-api"
   ]
  },
  {
   "cell_type": "code",
   "execution_count": 2,
   "id": "4adb466a-7c11-4f67-ae08-6158ab37b7f5",
   "metadata": {},
   "outputs": [],
   "source": [
    "import findspark\n",
    "findspark.init()\n",
    "import pyspark"
   ]
  },
  {
   "cell_type": "code",
   "execution_count": 3,
   "id": "49781ee6-92b2-465d-a652-bb46f1aa2948",
   "metadata": {},
   "outputs": [],
   "source": [
    "from covid.api import CovId19Data\n",
    "from pyspark.sql.functions import col\n",
    "from pyspark.sql import Row, SparkSession, functions\n",
    "from pyspark.sql import SQLContext\n",
    "from pyspark.sql.types import StructType, StringType, IntegerType, DateType"
   ]
  },
  {
   "cell_type": "code",
   "execution_count": 4,
   "id": "d80c00b9-28a8-4b4c-b6bc-78c5d3b9eb4c",
   "metadata": {},
   "outputs": [
    {
     "name": "stderr",
     "output_type": "stream",
     "text": [
      "Setting default log level to \"WARN\".\n",
      "To adjust logging level use sc.setLogLevel(newLevel). For SparkR, use setLogLevel(newLevel).\n",
      "23/11/30 13:05:14 WARN NativeCodeLoader: Unable to load native-hadoop library for your platform... using builtin-java classes where applicable\n"
     ]
    }
   ],
   "source": [
    "sc = pyspark.SparkContext(master='spark://hd-master:7077',\n",
    "                          appName='big_data')"
   ]
  },
  {
   "cell_type": "code",
   "execution_count": 5,
   "id": "0bac4fd2-905d-482c-866b-eff3dc27ddaf",
   "metadata": {},
   "outputs": [
    {
     "data": {
      "text/html": [
       "\n",
       "        <div>\n",
       "            <p><b>SparkContext</b></p>\n",
       "\n",
       "            <p><a href=\"http://hd-master:4040\">Spark UI</a></p>\n",
       "\n",
       "            <dl>\n",
       "              <dt>Version</dt>\n",
       "                <dd><code>v3.5.0</code></dd>\n",
       "              <dt>Master</dt>\n",
       "                <dd><code>spark://hd-master:7077</code></dd>\n",
       "              <dt>AppName</dt>\n",
       "                <dd><code>big_data</code></dd>\n",
       "            </dl>\n",
       "        </div>\n",
       "        "
      ],
      "text/plain": [
       "<SparkContext master=spark://hd-master:7077 appName=big_data>"
      ]
     },
     "execution_count": 5,
     "metadata": {},
     "output_type": "execute_result"
    }
   ],
   "source": [
    "sc"
   ]
  },
  {
   "cell_type": "code",
   "execution_count": 6,
   "id": "749e725e-5977-494c-93b9-5d582f6d6fc7",
   "metadata": {},
   "outputs": [
    {
     "name": "stderr",
     "output_type": "stream",
     "text": [
      "/usr/local/spark/python/pyspark/sql/context.py:113: FutureWarning: Deprecated in 3.0.0. Use SparkSession.builder.getOrCreate() instead.\n",
      "  warnings.warn(\n"
     ]
    }
   ],
   "source": [
    "spark = SQLContext(sc)"
   ]
  },
  {
   "cell_type": "code",
   "execution_count": 7,
   "id": "5d83d247-6579-44ef-8414-87bdb877df62",
   "metadata": {},
   "outputs": [],
   "source": [
    "api = CovId19Data(force=False)"
   ]
  },
  {
   "cell_type": "code",
   "execution_count": 8,
   "id": "c68792cd-881b-49b2-8d88-8b73e3f8e708",
   "metadata": {},
   "outputs": [],
   "source": [
    "ls_countries = list(api.get_all_records_by_country().keys())"
   ]
  },
  {
   "cell_type": "code",
   "execution_count": 9,
   "id": "ccf8401e-442c-4cf6-ab4b-a2792d6ba817",
   "metadata": {},
   "outputs": [],
   "source": [
    "dic_countries = {}\n",
    "for country in ls_countries:\n",
    "    res = api.get_history_by_country(country.replace(\"_\",\" \"))\n",
    "    history = res[country]['history']\n",
    "    for date_time in history.keys():\n",
    "        date = date_time.split(\" \")[0]\n",
    "        confirmed = history[date_time][\"confirmed\"]\n",
    "        recovered = history[date_time][\"recovered\"]\n",
    "        deaths = history[date_time][\"deaths\"]\n",
    "        k = country + \" * \" + date\n",
    "        dic_countries[k] = {}\n",
    "        dic_countries[k][\"confirmed\"] = confirmed\n",
    "        dic_countries[k][\"recovered\"] = recovered\n",
    "        dic_countries[k][\"deaths\"] = deaths"
   ]
  },
  {
   "cell_type": "code",
   "execution_count": 10,
   "id": "8542c6ed-dc8b-413b-a9c4-7ef65d4a7b6c",
   "metadata": {},
   "outputs": [],
   "source": [
    "# dic_countries"
   ]
  },
  {
   "cell_type": "code",
   "execution_count": 11,
   "id": "e96e0b55-8694-47dd-9fa2-064bfcfec012",
   "metadata": {},
   "outputs": [],
   "source": [
    "rowdata = [Row(**{'key': k, **v}) for k, v in dic_countries.items()] "
   ]
  },
  {
   "cell_type": "code",
   "execution_count": 12,
   "id": "4bcaa2a4-18ed-468f-ba38-483a88abb3a9",
   "metadata": {},
   "outputs": [],
   "source": [
    "df = spark.createDataFrame(rowdata).select('key','confirmed','recovered','deaths') "
   ]
  },
  {
   "cell_type": "code",
   "execution_count": 13,
   "id": "c481fdda-627e-4370-aaa4-b650171b3af9",
   "metadata": {},
   "outputs": [],
   "source": [
    "split_col = functions.split(df['key'], ' * ')\n",
    "df = df.withColumn('country', split_col.getItem(0))\n",
    "df = df.withColumn('date', split_col.getItem(2))"
   ]
  },
  {
   "cell_type": "code",
   "execution_count": 14,
   "id": "1213e038-feb4-491f-b0cf-25f01ae64334",
   "metadata": {},
   "outputs": [
    {
     "name": "stderr",
     "output_type": "stream",
     "text": [
      "23/11/30 13:05:45 WARN TaskSetManager: Stage 0 contains a task of very large size (1360 KiB). The maximum recommended task size is 1000 KiB.\n",
      "[Stage 0:=======================================>                   (4 + 2) / 6]\r"
     ]
    },
    {
     "name": "stdout",
     "output_type": "stream",
     "text": [
      "(229743, 6)\n"
     ]
    },
    {
     "name": "stderr",
     "output_type": "stream",
     "text": [
      "                                                                                \r"
     ]
    }
   ],
   "source": [
    "print((df.count(), len(df.columns)))\n",
    "#(229743, 6)"
   ]
  },
  {
   "cell_type": "code",
   "execution_count": 15,
   "id": "8a004000-8b1e-48fc-a825-88dd9fd6f94b",
   "metadata": {},
   "outputs": [
    {
     "name": "stderr",
     "output_type": "stream",
     "text": [
      "23/11/30 13:05:49 WARN TaskSetManager: Stage 3 contains a task of very large size (1360 KiB). The maximum recommended task size is 1000 KiB.\n",
      "                                                                                \r"
     ]
    },
    {
     "data": {
      "text/plain": [
       "1143"
      ]
     },
     "execution_count": 15,
     "metadata": {},
     "output_type": "execute_result"
    }
   ],
   "source": [
    "# number of date\n",
    "len(df.select('date').distinct().collect())"
   ]
  },
  {
   "cell_type": "code",
   "execution_count": 16,
   "id": "c455ee3c-7f7b-49be-b462-1e18e393661a",
   "metadata": {},
   "outputs": [
    {
     "name": "stderr",
     "output_type": "stream",
     "text": [
      "23/11/30 13:05:52 WARN TaskSetManager: Stage 6 contains a task of very large size (1360 KiB). The maximum recommended task size is 1000 KiB.\n",
      "                                                                                \r"
     ]
    },
    {
     "data": {
      "text/plain": [
       "201"
      ]
     },
     "execution_count": 16,
     "metadata": {},
     "output_type": "execute_result"
    }
   ],
   "source": [
    "# number of countries\n",
    "len(df.select('country').distinct().collect())"
   ]
  },
  {
   "cell_type": "code",
   "execution_count": 17,
   "id": "e2a0816e-86bd-4f7b-9b57-766b93bb00f2",
   "metadata": {},
   "outputs": [],
   "source": [
    "ls_column = [\"country\",\"date\",\"confirmed\",\"recovered\",\"deaths\"]"
   ]
  },
  {
   "cell_type": "code",
   "execution_count": 18,
   "id": "9f9f3bd1-4a82-4b76-b1c4-82024df48251",
   "metadata": {},
   "outputs": [],
   "source": [
    "df_selection = df.select(ls_column)"
   ]
  },
  {
   "cell_type": "code",
   "execution_count": 19,
   "id": "69ec94e0-cf4f-4ffe-b84c-026fd5b00baa",
   "metadata": {},
   "outputs": [
    {
     "name": "stderr",
     "output_type": "stream",
     "text": [
      "23/11/30 13:05:54 WARN TaskSetManager: Stage 9 contains a task of very large size (1360 KiB). The maximum recommended task size is 1000 KiB.\n",
      "[Stage 9:>                                                          (0 + 6) / 6]\r"
     ]
    },
    {
     "name": "stdout",
     "output_type": "stream",
     "text": [
      "(229743, 5)\n"
     ]
    },
    {
     "name": "stderr",
     "output_type": "stream",
     "text": [
      "                                                                                \r"
     ]
    }
   ],
   "source": [
    "print((df_selection.count(), len(df_selection.columns)))"
   ]
  },
  {
   "cell_type": "code",
   "execution_count": 20,
   "id": "78383b1c-b078-46ca-ae8f-ae1e29a6d881",
   "metadata": {},
   "outputs": [],
   "source": [
    "non_countries = ['winter_olympics_2022', 'summer_olympics_2020', 'ms_zaandam', 'diamond_princess', 'holy_see']"
   ]
  },
  {
   "cell_type": "code",
   "execution_count": 21,
   "id": "784ef3d1-9052-4a2e-94b8-8af8827f7b5b",
   "metadata": {},
   "outputs": [],
   "source": [
    "df_selection = df_selection.filter(~col(\"country\").isin(non_countries))"
   ]
  },
  {
   "cell_type": "code",
   "execution_count": 22,
   "id": "b216ddcb-bce4-4a5b-ab72-74cb30f42b47",
   "metadata": {},
   "outputs": [
    {
     "name": "stderr",
     "output_type": "stream",
     "text": [
      "23/11/30 13:05:55 WARN TaskSetManager: Stage 12 contains a task of very large size (1360 KiB). The maximum recommended task size is 1000 KiB.\n",
      "[Stage 12:======================================>                   (4 + 2) / 6]\r"
     ]
    },
    {
     "name": "stdout",
     "output_type": "stream",
     "text": [
      "(224028, 5)\n"
     ]
    },
    {
     "name": "stderr",
     "output_type": "stream",
     "text": [
      "                                                                                \r"
     ]
    }
   ],
   "source": [
    "print((df_selection.count(), len(df_selection.columns)))"
   ]
  },
  {
   "cell_type": "code",
   "execution_count": 23,
   "id": "0b9c9d90-b443-4f7c-bca5-de9c99c11bb9",
   "metadata": {},
   "outputs": [
    {
     "name": "stderr",
     "output_type": "stream",
     "text": [
      "23/11/30 13:05:57 WARN TaskSetManager: Stage 15 contains a task of very large size (1360 KiB). The maximum recommended task size is 1000 KiB.\n"
     ]
    },
    {
     "name": "stdout",
     "output_type": "stream",
     "text": [
      "+-----------+----------+---------+---------+------+\n",
      "|country    |date      |confirmed|recovered|deaths|\n",
      "+-----------+----------+---------+---------+------+\n",
      "|afghanistan|2020-01-22|0        |0        |0     |\n",
      "|afghanistan|2020-01-23|0        |0        |0     |\n",
      "|afghanistan|2020-01-24|0        |0        |0     |\n",
      "|afghanistan|2020-01-25|0        |0        |0     |\n",
      "|afghanistan|2020-01-26|0        |0        |0     |\n",
      "+-----------+----------+---------+---------+------+\n",
      "only showing top 5 rows\n",
      "\n"
     ]
    }
   ],
   "source": [
    "df_selection.show(5,truncate=False)"
   ]
  },
  {
   "cell_type": "code",
   "execution_count": 24,
   "id": "22874a8e-f6dc-45d7-835a-6f75f1daec6b",
   "metadata": {},
   "outputs": [
    {
     "name": "stdout",
     "output_type": "stream",
     "text": [
      "root\n",
      " |-- country: string (nullable = true)\n",
      " |-- date: string (nullable = true)\n",
      " |-- confirmed: long (nullable = true)\n",
      " |-- recovered: long (nullable = true)\n",
      " |-- deaths: long (nullable = true)\n",
      "\n"
     ]
    }
   ],
   "source": [
    "df_selection.printSchema()"
   ]
  },
  {
   "cell_type": "code",
   "execution_count": 25,
   "id": "a74e9276-b2ef-499b-9b5d-68e34dd837e7",
   "metadata": {},
   "outputs": [
    {
     "name": "stderr",
     "output_type": "stream",
     "text": [
      "23/11/30 13:05:58 WARN TaskSetManager: Stage 16 contains a task of very large size (8234 KiB). The maximum recommended task size is 1000 KiB.\n",
      "                                                                                \r"
     ]
    }
   ],
   "source": [
    "df_selection.coalesce(1).write.mode('overwrite').option('header','true').csv('hdfs://hd-master:9000/covid-19')"
   ]
  },
  {
   "cell_type": "code",
   "execution_count": 26,
   "id": "b96f4b3a-239e-4261-b1e3-ab641179e010",
   "metadata": {},
   "outputs": [],
   "source": [
    "sc.stop()"
   ]
  },
  {
   "cell_type": "code",
   "execution_count": null,
   "id": "2a569d4c-94da-4c13-aac2-82647856ac9e",
   "metadata": {},
   "outputs": [],
   "source": []
  }
 ],
 "metadata": {
  "kernelspec": {
   "display_name": "Python 3 (ipykernel)",
   "language": "python",
   "name": "python3"
  },
  "language_info": {
   "codemirror_mode": {
    "name": "ipython",
    "version": 3
   },
   "file_extension": ".py",
   "mimetype": "text/x-python",
   "name": "python",
   "nbconvert_exporter": "python",
   "pygments_lexer": "ipython3",
   "version": "3.10.12"
  }
 },
 "nbformat": 4,
 "nbformat_minor": 5
}
