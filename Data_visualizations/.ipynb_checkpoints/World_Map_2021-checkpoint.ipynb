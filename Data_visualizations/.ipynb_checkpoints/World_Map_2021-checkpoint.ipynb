{
 "cells": [
  {
   "cell_type": "code",
   "execution_count": 3,
   "id": "46694add-e04a-4b34-98bb-db6303f845bf",
   "metadata": {},
   "outputs": [
    {
     "name": "stderr",
     "output_type": "stream",
     "text": [
      "Setting default log level to \"WARN\".\n",
      "To adjust logging level use sc.setLogLevel(newLevel). For SparkR, use setLogLevel(newLevel).\n",
      "23/11/30 13:10:37 WARN NativeCodeLoader: Unable to load native-hadoop library for your platform... using builtin-java classes where applicable\n"
     ]
    }
   ],
   "source": [
    "import findspark\n",
    "findspark.init()\n",
    "import pyspark\n",
    "\n",
    "sc = pyspark.SparkContext(master='spark://hd-master:7077',\n",
    "                          appName='big_data')"
   ]
  },
  {
   "cell_type": "code",
   "execution_count": 4,
   "id": "68cbb2b8-5898-40c6-b747-c7324940c38b",
   "metadata": {},
   "outputs": [
    {
     "name": "stdout",
     "output_type": "stream",
     "text": [
      "Modules are imported.\n"
     ]
    }
   ],
   "source": [
    "from pyspark.sql import SparkSession\n",
    "from pyspark.sql import functions as F\n",
    "from pyspark.sql import SQLContext\n",
    "import matplotlib.pyplot as plt\n",
    "import pandas as pd\n",
    "from geopy.geocoders import Nominatim\n",
    "import numpy as np\n",
    "from pycountry_convert import country_alpha2_to_continent_code, country_name_to_country_alpha2\n",
    "import folium\n",
    "from folium.plugins import MarkerCluster\n",
    "# import geopandas as gpd\n",
    "# import seaborn as sns\n",
    "# from fuzzywuzzy import process\n",
    "\n",
    "print('Modules are imported.')"
   ]
  },
  {
   "cell_type": "code",
   "execution_count": 5,
   "id": "0830a118-f5c5-44df-a362-8c7df14f55dd",
   "metadata": {},
   "outputs": [
    {
     "name": "stderr",
     "output_type": "stream",
     "text": [
      "/home/hadoop/.local/lib/python3.10/site-packages/pyspark/sql/context.py:113: FutureWarning: Deprecated in 3.0.0. Use SparkSession.builder.getOrCreate() instead.\n",
      "  warnings.warn(\n"
     ]
    }
   ],
   "source": [
    "spark = SQLContext(sc)"
   ]
  },
  {
   "cell_type": "code",
   "execution_count": 6,
   "id": "57f8f824-14c8-4988-af58-4d57db3e1e0e",
   "metadata": {},
   "outputs": [
    {
     "name": "stderr",
     "output_type": "stream",
     "text": [
      "                                                                                \r"
     ]
    },
    {
     "name": "stdout",
     "output_type": "stream",
     "text": [
      "+-----------+----------+---------+---------+------+\n",
      "|country    |date      |confirmed|recovered|deaths|\n",
      "+-----------+----------+---------+---------+------+\n",
      "|afghanistan|2020-01-22|0        |0        |0     |\n",
      "|afghanistan|2020-01-23|0        |0        |0     |\n",
      "|afghanistan|2020-01-24|0        |0        |0     |\n",
      "|afghanistan|2020-01-25|0        |0        |0     |\n",
      "|afghanistan|2020-01-26|0        |0        |0     |\n",
      "+-----------+----------+---------+---------+------+\n",
      "only showing top 5 rows\n",
      "\n"
     ]
    }
   ],
   "source": [
    "covid_data = spark.read.option(\"header\", True).csv(\"hdfs://hd-master:9000/covid-19\", inferSchema=True)\n",
    "covid_data.show(5, truncate=False)"
   ]
  },
  {
   "cell_type": "code",
   "execution_count": 7,
   "id": "836d3a4c-25af-4db4-b5b1-54593552cc37",
   "metadata": {},
   "outputs": [
    {
     "name": "stderr",
     "output_type": "stream",
     "text": [
      "                                                                                \r"
     ]
    },
    {
     "name": "stdout",
     "output_type": "stream",
     "text": [
      "                country  total_confirmed_2020  total_confirmed_2021  \\\n",
      "0           Afghanistan               8501751              39518380   \n",
      "1               Albania               3727544              51106141   \n",
      "2               Algeria              10583375              57172988   \n",
      "3               Andorra                682822               5084330   \n",
      "4                Angola               1343410              14797145   \n",
      "..                  ...                   ...                   ...   \n",
      "191             Vietnam                219337             135539309   \n",
      "192  West Bank And Gaza               8753200             115974691   \n",
      "193               Yemen                382306               2403947   \n",
      "194              Zambia               2433883              52593029   \n",
      "195            Zimbabwe               1336283              30065437   \n",
      "\n",
      "     total_confirmed_2022  \n",
      "0                67783564  \n",
      "1               108004674  \n",
      "2                96532073  \n",
      "3                15527738  \n",
      "4                36733077  \n",
      "..                    ...  \n",
      "191            3395033974  \n",
      "192             239996301  \n",
      "193               4280922  \n",
      "194             117791992  \n",
      "195              91162924  \n",
      "\n",
      "[196 rows x 4 columns]\n"
     ]
    }
   ],
   "source": [
    "# Perform necessary data transformations\n",
    "covid_data = covid_data.withColumn(\"year\", F.year(\"date\"))\n",
    "covid_data = covid_data.withColumn(\"month\", F.month(\"date\"))\n",
    "\n",
    "# Filter data for the year 2021\n",
    "covid_data_2021 = covid_data.filter(covid_data.year == 2021)\n",
    "\n",
    "# Calculate total confirmed cases by country and month for the year 2021\n",
    "total_confirmed_2021_monthly = covid_data_2021.groupBy(\"country\", \"month\").agg(F.sum(\"confirmed\").alias(\"total_confirmed_2021\"))\n",
    "\n",
    "# Order the result by country and month\n",
    "total_confirmed_2021_monthly = total_confirmed_2021_monthly.orderBy(\"country\", \"month\")\n",
    "\n",
    "# Filter data for the year 2020\n",
    "covid_data_2020 = covid_data.filter(covid_data.year == 2020)\n",
    "\n",
    "# Calculate total confirmed cases by country and month for the year 2020\n",
    "total_confirmed_2020_monthly = covid_data_2020.groupBy(\"country\", \"month\").agg(F.sum(\"confirmed\").alias(\"total_confirmed_2020\"))\n",
    "\n",
    "# Order the result by country and month\n",
    "total_confirmed_2020_monthly = total_confirmed_2020_monthly.orderBy(\"country\", \"month\")\n",
    "\n",
    "# Filter data for the year 2022\n",
    "covid_data_2022 = covid_data.filter(covid_data.year == 2022)\n",
    "\n",
    "# Calculate total confirmed cases by country and month for the year 2022\n",
    "total_confirmed_2022_monthly = covid_data_2022.groupBy(\"country\", \"month\").agg(F.sum(\"confirmed\").alias(\"total_confirmed_2022\"))\n",
    "\n",
    "# Order the result by country and month\n",
    "total_confirmed_2022_monthly = total_confirmed_2022_monthly.orderBy(\"country\", \"month\")\n",
    "\n",
    "# Show the result\n",
    "# total_confirmed_2021_monthly.show()\n",
    "\n",
    "# Combine the data for the years 2020, 2021, and 2022\n",
    "total_confirmed_all_years = (\n",
    "    total_confirmed_2020_monthly\n",
    "    .join(total_confirmed_2021_monthly, [\"country\", \"month\"], \"outer\")\n",
    "    .join(total_confirmed_2022_monthly, [\"country\", \"month\"], \"outer\")\n",
    ")\n",
    "\n",
    "# Fill missing values with 0\n",
    "total_confirmed_all_years = total_confirmed_all_years.fillna(0)\n",
    "\n",
    "# Calculate total confirmed cases by country\n",
    "total_confirmed_all_years = (\n",
    "    total_confirmed_all_years\n",
    "    .groupBy(\"country\")\n",
    "    .agg(\n",
    "        F.sum(\"total_confirmed_2020\").alias(\"total_confirmed_2020\"),\n",
    "        F.sum(\"total_confirmed_2021\").alias(\"total_confirmed_2021\"),\n",
    "        F.sum(\"total_confirmed_2022\").alias(\"total_confirmed_2022\")\n",
    "    )\n",
    ")\n",
    "\n",
    "# Order the result by country\n",
    "total_confirmed_all_years = total_confirmed_all_years.orderBy(\"country\")\n",
    "\n",
    "# Convert to Pandas DataFrame\n",
    "df_all_years = total_confirmed_all_years.toPandas()\n",
    "\n",
    "# Modify the 'country' column\n",
    "df_all_years['country'] = df_all_years['country'].str.replace('_', ' ').str.title()\n",
    "\n",
    "# Display the updated DataFrame\n",
    "print(df_all_years)"
   ]
  },
  {
   "cell_type": "code",
   "execution_count": 8,
   "id": "f71af427-7292-430f-9273-53f62515dd76",
   "metadata": {},
   "outputs": [],
   "source": [
    "def get_continent(country):\n",
    "    try:\n",
    "        cn_a2_code = country_name_to_country_alpha2(country)\n",
    "    except:\n",
    "        cn_a2_code = 'Unknown' \n",
    "    try:\n",
    "        cn_continent = country_alpha2_to_continent_code(cn_a2_code)\n",
    "    except:\n",
    "        cn_continent = 'Unknown' \n",
    "    return (cn_a2_code, cn_continent)"
   ]
  },
  {
   "cell_type": "code",
   "execution_count": 9,
   "id": "dcf90cb0-4f18-4903-868e-b9ff3479735a",
   "metadata": {},
   "outputs": [
    {
     "name": "stdout",
     "output_type": "stream",
     "text": [
      "                country  total_confirmed_2020  total_confirmed_2021  \\\n",
      "0           Afghanistan               8501751              39518380   \n",
      "1               Albania               3727544              51106141   \n",
      "2               Algeria              10583375              57172988   \n",
      "3               Andorra                682822               5084330   \n",
      "4                Angola               1343410              14797145   \n",
      "..                  ...                   ...                   ...   \n",
      "191             Vietnam                219337             135539309   \n",
      "192  West Bank And Gaza               8753200             115974691   \n",
      "193               Yemen                382306               2403947   \n",
      "194              Zambia               2433883              52593029   \n",
      "195            Zimbabwe               1336283              30065437   \n",
      "\n",
      "     total_confirmed_2022 country_alpha2 continent  \n",
      "0                67783564             AF        AS  \n",
      "1               108004674             AL        EU  \n",
      "2                96532073             DZ        AF  \n",
      "3                15527738             AD        EU  \n",
      "4                36733077             AO        AF  \n",
      "..                    ...            ...       ...  \n",
      "191            3395033974             VN        AS  \n",
      "192             239996301        Unknown   Unknown  \n",
      "193               4280922             YE        AS  \n",
      "194             117791992             ZM        AF  \n",
      "195              91162924             ZW        AF  \n",
      "\n",
      "[196 rows x 6 columns]\n"
     ]
    }
   ],
   "source": [
    "df_all_years[['country_alpha2', 'continent']] = df_all_years['country'].apply(lambda x: pd.Series(get_continent(x)))\n",
    "\n",
    "print(df_all_years)"
   ]
  },
  {
   "cell_type": "code",
   "execution_count": 10,
   "id": "ec82ae61-4b43-4f7b-9a6d-454f8e1a04f1",
   "metadata": {},
   "outputs": [],
   "source": [
    "# Specify a custom user_agent\n",
    "custom_user_agent = \"my-application1\"\n",
    "geolocator = Nominatim(user_agent=custom_user_agent)\n",
    "\n",
    "def geolocate(country):\n",
    "    try:\n",
    "        # Geolocate the center of the country\n",
    "        loc = geolocator.geocode(country)\n",
    "        # And return latitude and longitude\n",
    "        return (loc.latitude, loc.longitude)\n",
    "    except:\n",
    "        # Return missing value\n",
    "        return np.nan"
   ]
  },
  {
   "cell_type": "code",
   "execution_count": null,
   "id": "a90b27dd-8749-432f-9627-d167c0f9ca17",
   "metadata": {},
   "outputs": [],
   "source": [
    "# Apply the geolocate function to the 'country' column\n",
    "df_all_years[['latitude', 'longitude']] = df_all_years['country'].apply(lambda x: pd.Series(geolocate(x)))\n",
    "\n",
    "# Display the updated DataFrame\n",
    "#print(df)\n",
    "\n",
    "# Save the updated DataFrame to a CSV file\n",
    "#df.to_csv('output_file.csv', index=False)\n",
    "\n",
    "corrections = {\n",
    "    'Albania': (41.153332, 20.168331),\n",
    "    'Antarctica': (-90.0, 0.0),\n",
    "    'Bosnia And Herzegovina': (43.915886, 17.679076),\n",
    "    'Brazil': (-14.235004, -51.92528),\n",
    "    'China': (35.86166, 104.195397),\n",
    "    'Germany': (51.165691, 10.451526),\n",
    "    #'Guinea-Bissau': (11.803749, -15.180413),\n",
    "    'Iran': (32.427908, 53.688046),\n",
    "    'Korea North': (40.339852, 127.510093),\n",
    "    'Kuwait': (29.375859, 47.977405),\n",
    "    'Moldova': (47.411631, 28.369885),\n",
    "    'Morocco': (31.791702, -7.09262),\n",
    "    'Russia': (61.52401, 105.318756),\n",
    "    'Seychelles': (-4.679574, 55.491977),\n",
    "    #'Timor-Leste': (-8.874217, 125.727539),\n",
    "    'Us': (37.09024, -95.712891),\n",
    "    'Egypt': (26.820553, 30.802498),\n",
    "    'Georgia': (42.3154, 43.3569),\n",
    "    'Mongolia': (46.8625, 103.8467),\n",
    "    'Sweden': (60.1282, 18.6435),\n",
    "    'Greece': (39.0742, 21.8243),\n",
    "    'Hungary': (47.1625, 19.5033),\n",
    "    'Lebanon': (33.8547, 35.8623),\n",
    "    'Israel': (31.0461, 34.8516),\n",
    "    'Colombia': (4.5709, -74.2973),\n",
    "    'Cambodia': (12.5657, 104.9910)\n",
    "}\n",
    "\n",
    "\n",
    "# Update the DataFrame with corrected coordinates\n",
    "for country, (lat, lon) in corrections.items():\n",
    "    df_all_years.loc[df_all_years['country'] == country, ['latitude', 'longitude']] = lat, lon\n",
    "\n",
    "# Display the updated DataFrame\n",
    "print(df_all_years)\n"
   ]
  },
  {
   "cell_type": "code",
   "execution_count": null,
   "id": "69ae5cb0-291a-4f19-8117-2261ce8aea93",
   "metadata": {},
   "outputs": [],
   "source": [
    "# Empty map\n",
    "world_map_all_years = folium.Map(tiles=\"cartodbpositron\")\n",
    "marker_cluster_all_years = MarkerCluster().add_to(world_map_all_years)\n",
    "\n",
    "# For each coordinate, create a CircleMarker for valid coordinates\n",
    "for i in range(len(df_all_years)):\n",
    "    lat = df_all_years.iloc[i]['latitude']\n",
    "    long = df_all_years.iloc[i]['longitude']\n",
    "    \n",
    "    # Check for NaN values\n",
    "    if not np.isnan(lat) and not np.isnan(long):\n",
    "        radius = 5\n",
    "        color = 'red'\n",
    "        popup_text = f\"\"\"Country: {df_all_years.iloc[i]['country']}<br>\n",
    "                        Total confirmed 2020: <span style=\"color: {color};\"><strong>{df_all_years.iloc[i]['total_confirmed_2020']}</span></strong><br>\n",
    "                        Total confirmed 2021: <span style=\"color: {color};\"><span style=\"color: {color};\"><strong><strong>{df_all_years.iloc[i]['total_confirmed_2021']}</span></span></strong></strong><br>\n",
    "                        Total confirmed 2022: <span style=\"color: {color};\"><strong>{df_all_years.iloc[i]['total_confirmed_2022']}</span></strong><br>\"\"\"\n",
    "        \n",
    "        folium.CircleMarker(location=[lat, long], radius=radius, popup=popup_text, fill=True).add_to(marker_cluster_all_years)\n",
    "\n",
    "# Show the map\n",
    "world_map_all_years"
   ]
  },
  {
   "cell_type": "code",
   "execution_count": null,
   "id": "4c10919d-b2f2-4e2c-98ff-433460d9810f",
   "metadata": {},
   "outputs": [],
   "source": [
    "# Stop the Spark session\n",
    "sc.stop()"
   ]
  },
  {
   "cell_type": "code",
   "execution_count": null,
   "id": "a91b884c-ff0f-428c-98e4-08d9e73485f6",
   "metadata": {},
   "outputs": [],
   "source": []
  }
 ],
 "metadata": {
  "kernelspec": {
   "display_name": "Python 3 (ipykernel)",
   "language": "python",
   "name": "python3"
  },
  "language_info": {
   "codemirror_mode": {
    "name": "ipython",
    "version": 3
   },
   "file_extension": ".py",
   "mimetype": "text/x-python",
   "name": "python",
   "nbconvert_exporter": "python",
   "pygments_lexer": "ipython3",
   "version": "3.10.12"
  }
 },
 "nbformat": 4,
 "nbformat_minor": 5
}
