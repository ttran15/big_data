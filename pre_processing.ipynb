{
 "cells": [
  {
   "cell_type": "code",
   "execution_count": 1,
   "id": "03ebcc8c-d5c5-41cf-bc2e-b5b9e3002f1a",
   "metadata": {},
   "outputs": [],
   "source": [
    "# https://pypi.org/project/covid-data-api/\n",
    "# !pip install covid-data-api"
   ]
  },
  {
   "cell_type": "code",
   "execution_count": 1,
   "id": "49781ee6-92b2-465d-a652-bb46f1aa2948",
   "metadata": {},
   "outputs": [],
   "source": [
    "from covid.api import CovId19Data\n",
    "from pyspark.sql import Row, SparkSession, functions\n",
    "from pyspark.sql.types import StructType, StringType, IntegerType, DateType"
   ]
  },
  {
   "cell_type": "code",
   "execution_count": 2,
   "id": "d80c00b9-28a8-4b4c-b6bc-78c5d3b9eb4c",
   "metadata": {},
   "outputs": [],
   "source": [
    "spark = SparkSession.builder.master(\"local\").getOrCreate()"
   ]
  },
  {
   "cell_type": "code",
   "execution_count": 3,
   "id": "5d83d247-6579-44ef-8414-87bdb877df62",
   "metadata": {},
   "outputs": [],
   "source": [
    "api = CovId19Data(force=False)"
   ]
  },
  {
   "cell_type": "code",
   "execution_count": 4,
   "id": "c68792cd-881b-49b2-8d88-8b73e3f8e708",
   "metadata": {},
   "outputs": [],
   "source": [
    "ls_countries = list(api.get_all_records_by_country().keys())"
   ]
  },
  {
   "cell_type": "code",
   "execution_count": 5,
   "id": "ccf8401e-442c-4cf6-ab4b-a2792d6ba817",
   "metadata": {},
   "outputs": [],
   "source": [
    "dic_countries = {}\n",
    "for country in ls_countries:\n",
    "    res = api.get_history_by_country(country.replace(\"_\",\" \"))\n",
    "    history = res[country]['history']\n",
    "    for date_time in history.keys():\n",
    "        date = date_time.split(\" \")[0]\n",
    "        confirmed = history[date_time][\"confirmed\"]\n",
    "        recovered = history[date_time][\"recovered\"]\n",
    "        deaths = history[date_time][\"deaths\"]\n",
    "        k = country + \" * \" + date\n",
    "        dic_countries[k] = {}\n",
    "        dic_countries[k][\"confirmed\"] = confirmed\n",
    "        dic_countries[k][\"recovered\"] = recovered\n",
    "        dic_countries[k][\"deaths\"] = deaths"
   ]
  },
  {
   "cell_type": "code",
   "execution_count": 6,
   "id": "8542c6ed-dc8b-413b-a9c4-7ef65d4a7b6c",
   "metadata": {},
   "outputs": [],
   "source": [
    "# dic_countries"
   ]
  },
  {
   "cell_type": "code",
   "execution_count": 7,
   "id": "e96e0b55-8694-47dd-9fa2-064bfcfec012",
   "metadata": {},
   "outputs": [],
   "source": [
    "rowdata = [Row(**{'key': k, **v}) for k, v in dic_countries.items()] "
   ]
  },
  {
   "cell_type": "code",
   "execution_count": 8,
   "id": "4bcaa2a4-18ed-468f-ba38-483a88abb3a9",
   "metadata": {},
   "outputs": [],
   "source": [
    "df = spark.createDataFrame(rowdata).select('key','confirmed','recovered','deaths') "
   ]
  },
  {
   "cell_type": "code",
   "execution_count": 9,
   "id": "c481fdda-627e-4370-aaa4-b650171b3af9",
   "metadata": {},
   "outputs": [],
   "source": [
    "split_col = functions.split(df['key'], ' * ')\n",
    "df = df.withColumn('country', split_col.getItem(0))\n",
    "df = df.withColumn('date', split_col.getItem(2))"
   ]
  },
  {
   "cell_type": "code",
   "execution_count": 10,
   "id": "75de5ae2-0c61-4c86-a617-f426651fb5b7",
   "metadata": {},
   "outputs": [],
   "source": [
    "#df.show(truncate=False)"
   ]
  },
  {
   "cell_type": "code",
   "execution_count": 11,
   "id": "1213e038-feb4-491f-b0cf-25f01ae64334",
   "metadata": {},
   "outputs": [
    {
     "name": "stdout",
     "output_type": "stream",
     "text": [
      "(229743, 6)\n"
     ]
    }
   ],
   "source": [
    "print((df.count(), len(df.columns)))\n",
    "#(229743, 6)"
   ]
  },
  {
   "cell_type": "code",
   "execution_count": 12,
   "id": "8a004000-8b1e-48fc-a825-88dd9fd6f94b",
   "metadata": {},
   "outputs": [
    {
     "data": {
      "text/plain": [
       "1143"
      ]
     },
     "execution_count": 12,
     "metadata": {},
     "output_type": "execute_result"
    }
   ],
   "source": [
    "# number of date\n",
    "len(df.select('date').distinct().collect())"
   ]
  },
  {
   "cell_type": "code",
   "execution_count": 13,
   "id": "c455ee3c-7f7b-49be-b462-1e18e393661a",
   "metadata": {},
   "outputs": [
    {
     "data": {
      "text/plain": [
       "201"
      ]
     },
     "execution_count": 13,
     "metadata": {},
     "output_type": "execute_result"
    }
   ],
   "source": [
    "# number of countries\n",
    "len(df.select('country').distinct().collect())"
   ]
  },
  {
   "cell_type": "code",
   "execution_count": 14,
   "id": "e2a0816e-86bd-4f7b-9b57-766b93bb00f2",
   "metadata": {},
   "outputs": [],
   "source": [
    "ls_column = [\"country\",\"date\",\"confirmed\",\"recovered\",\"deaths\"]"
   ]
  },
  {
   "cell_type": "code",
   "execution_count": 15,
   "id": "9f9f3bd1-4a82-4b76-b1c4-82024df48251",
   "metadata": {},
   "outputs": [],
   "source": [
    "df_selection = df.select(ls_column)"
   ]
  },
  {
   "cell_type": "code",
   "execution_count": 16,
   "id": "0b9c9d90-b443-4f7c-bca5-de9c99c11bb9",
   "metadata": {},
   "outputs": [
    {
     "name": "stdout",
     "output_type": "stream",
     "text": [
      "+-----------+----------+---------+---------+------+\n",
      "|country    |date      |confirmed|recovered|deaths|\n",
      "+-----------+----------+---------+---------+------+\n",
      "|afghanistan|2020-01-22|0        |0        |0     |\n",
      "|afghanistan|2020-01-23|0        |0        |0     |\n",
      "|afghanistan|2020-01-24|0        |0        |0     |\n",
      "|afghanistan|2020-01-25|0        |0        |0     |\n",
      "|afghanistan|2020-01-26|0        |0        |0     |\n",
      "|afghanistan|2020-01-27|0        |0        |0     |\n",
      "|afghanistan|2020-01-28|0        |0        |0     |\n",
      "|afghanistan|2020-01-29|0        |0        |0     |\n",
      "|afghanistan|2020-01-30|0        |0        |0     |\n",
      "|afghanistan|2020-01-31|0        |0        |0     |\n",
      "|afghanistan|2020-02-01|0        |0        |0     |\n",
      "|afghanistan|2020-02-02|0        |0        |0     |\n",
      "|afghanistan|2020-02-03|0        |0        |0     |\n",
      "|afghanistan|2020-02-04|0        |0        |0     |\n",
      "|afghanistan|2020-02-05|0        |0        |0     |\n",
      "|afghanistan|2020-02-06|0        |0        |0     |\n",
      "|afghanistan|2020-02-07|0        |0        |0     |\n",
      "|afghanistan|2020-02-08|0        |0        |0     |\n",
      "|afghanistan|2020-02-09|0        |0        |0     |\n",
      "|afghanistan|2020-02-10|0        |0        |0     |\n",
      "+-----------+----------+---------+---------+------+\n",
      "only showing top 20 rows\n",
      "\n"
     ]
    }
   ],
   "source": [
    "df_selection.show(truncate=False)"
   ]
  },
  {
   "cell_type": "code",
   "execution_count": 17,
   "id": "22874a8e-f6dc-45d7-835a-6f75f1daec6b",
   "metadata": {},
   "outputs": [
    {
     "name": "stdout",
     "output_type": "stream",
     "text": [
      "root\n",
      " |-- country: string (nullable = true)\n",
      " |-- date: string (nullable = true)\n",
      " |-- confirmed: long (nullable = true)\n",
      " |-- recovered: long (nullable = true)\n",
      " |-- deaths: long (nullable = true)\n",
      "\n"
     ]
    }
   ],
   "source": [
    "df_selection.printSchema()"
   ]
  },
  {
   "cell_type": "code",
   "execution_count": 18,
   "id": "a74e9276-b2ef-499b-9b5d-68e34dd837e7",
   "metadata": {},
   "outputs": [],
   "source": [
    "df_selection.repartition(1).write.mode(\"overwrite\").csv(\"covid-19.csv\",header='true')"
   ]
  },
  {
   "cell_type": "code",
   "execution_count": 19,
   "id": "51cd885d-d820-449a-abb6-287463c4158d",
   "metadata": {},
   "outputs": [],
   "source": [
    "# load file"
   ]
  },
  {
   "cell_type": "code",
   "execution_count": 20,
   "id": "e99c02c0-8d3c-4e53-8d49-798455e632b8",
   "metadata": {},
   "outputs": [],
   "source": [
    "schema = StructType() \\\n",
    "      .add(\"country\",StringType(),True) \\\n",
    "      .add(\"date\",DateType(),True) \\\n",
    "      .add(\"confirmed\",IntegerType(),True) \\\n",
    "      .add(\"recovered\",IntegerType(),True) \\\n",
    "      .add(\"deaths\",IntegerType(),True)\n",
    "df_load = spark.read.option(\"header\",True).schema(schema) \\\n",
    "     .csv(\"covid-19.csv\")"
   ]
  },
  {
   "cell_type": "code",
   "execution_count": 21,
   "id": "e85c3617-81ac-4a28-89fa-822d2af6828b",
   "metadata": {},
   "outputs": [
    {
     "name": "stdout",
     "output_type": "stream",
     "text": [
      "root\n",
      " |-- country: string (nullable = true)\n",
      " |-- date: date (nullable = true)\n",
      " |-- confirmed: integer (nullable = true)\n",
      " |-- recovered: integer (nullable = true)\n",
      " |-- deaths: integer (nullable = true)\n",
      "\n"
     ]
    }
   ],
   "source": [
    "df_load.printSchema()"
   ]
  },
  {
   "cell_type": "code",
   "execution_count": 22,
   "id": "83fe3d46-8acd-467b-8020-74d98c394660",
   "metadata": {},
   "outputs": [
    {
     "name": "stdout",
     "output_type": "stream",
     "text": [
      "+-----------+----------+---------+---------+------+\n",
      "|country    |date      |confirmed|recovered|deaths|\n",
      "+-----------+----------+---------+---------+------+\n",
      "|afghanistan|2020-01-22|0        |0        |0     |\n",
      "|afghanistan|2020-01-23|0        |0        |0     |\n",
      "|afghanistan|2020-01-24|0        |0        |0     |\n",
      "|afghanistan|2020-01-25|0        |0        |0     |\n",
      "|afghanistan|2020-01-26|0        |0        |0     |\n",
      "|afghanistan|2020-01-27|0        |0        |0     |\n",
      "|afghanistan|2020-01-28|0        |0        |0     |\n",
      "|afghanistan|2020-01-29|0        |0        |0     |\n",
      "|afghanistan|2020-01-30|0        |0        |0     |\n",
      "|afghanistan|2020-01-31|0        |0        |0     |\n",
      "|afghanistan|2020-02-01|0        |0        |0     |\n",
      "|afghanistan|2020-02-02|0        |0        |0     |\n",
      "|afghanistan|2020-02-03|0        |0        |0     |\n",
      "|afghanistan|2020-02-04|0        |0        |0     |\n",
      "|afghanistan|2020-02-05|0        |0        |0     |\n",
      "|afghanistan|2020-02-06|0        |0        |0     |\n",
      "|afghanistan|2020-02-07|0        |0        |0     |\n",
      "|afghanistan|2020-02-08|0        |0        |0     |\n",
      "|afghanistan|2020-02-09|0        |0        |0     |\n",
      "|afghanistan|2020-02-10|0        |0        |0     |\n",
      "+-----------+----------+---------+---------+------+\n",
      "only showing top 20 rows\n",
      "\n"
     ]
    }
   ],
   "source": [
    "df_load.show(truncate=False)"
   ]
  },
  {
   "cell_type": "code",
   "execution_count": null,
   "id": "8c38c080-a867-4d11-a6ee-9c982a9cab09",
   "metadata": {},
   "outputs": [],
   "source": []
  },
  {
   "cell_type": "code",
   "execution_count": null,
   "id": "f8427a3f-a953-4f16-8e5d-eac1e38b4915",
   "metadata": {},
   "outputs": [],
   "source": []
  }
 ],
 "metadata": {
  "kernelspec": {
   "display_name": "Python 3 (ipykernel)",
   "language": "python",
   "name": "python3"
  },
  "language_info": {
   "codemirror_mode": {
    "name": "ipython",
    "version": 3
   },
   "file_extension": ".py",
   "mimetype": "text/x-python",
   "name": "python",
   "nbconvert_exporter": "python",
   "pygments_lexer": "ipython3",
   "version": "3.11.6"
  }
 },
 "nbformat": 4,
 "nbformat_minor": 5
}
